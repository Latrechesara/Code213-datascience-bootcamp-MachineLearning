{
 "cells": [
  {
   "cell_type": "markdown",
   "id": "9f6a505c",
   "metadata": {},
   "source": [
    "<table width=\"100%\"><tr style=\"background-color:white;\">\n",
    "    <td style=\"text-align:left;padding:0px;width:142px'\">\n",
    "        <a href=\"https://code213.tech\" target=\"_blank\">\n",
    "            <img src=\"./images/code213.PNG\"></a></td>\n",
    "    <td width=\"*\">&nbsp;&nbsp;&nbsp;&nbsp;&nbsp;&nbsp;</td>\n",
    "    <!-- ############################################# -->\n",
    "    <td style=\"padding:0px;width:90px;\">\n",
    "        <img align=\"right\" src=\"./images/follow_us.png\" height=\"40px\"></td>\n",
    "    <td style=\"padding:0px;width:40px;\">\n",
    "        <a href=\"https://x.com/code213dz\" target=\"_blank\">\n",
    "        <img align=\"right\" src=\"./images/Twitter.png\" width=\"40px\"></a> </td>\n",
    "    <td style=\"padding:0px;width:5px;\"></td>\n",
    "    <td style=\"padding:0px;width:40px;\">\n",
    "        <a href=\"https://www.facebook.com/code213.algerie/\" target=\"_blank\">\n",
    "        <img align=\"right\" src=\"./images/Fb.png\"></a></td>\n",
    "    <td style=\"padding:0px;width:5px;\"></td>\n",
    "    <td style=\"padding:0px;width:40px;\">\n",
    "        <a href=\"https://www.linkedin.com/company/code213-algeria/posts/?feedView=all\" target=\"_blank\">\n",
    "        <img align=\"right\" src=\"./images/LinkedIn.png\"></a></td>\n",
    "    <td style=\"padding:0px;width:5px;\"></td>\n",
    "    <td style=\"padding:0px;width:40px;\">\n",
    "        <a href=\"https://www.youtube.com/@Code213-TechSchool\" target=\"_blank\">\n",
    "        <img align=\"right\" src=\"./images/YT.png\"></a></td>\n",
    "    <!-- ############################################# -->\n",
    "    <td style=\"padding:0px;width:60px;\">\n",
    "        <img align=\"right\" src=\"./images/join.png\" height=\"40px\"></td>\n",
    "    <td style=\"padding:0px;width:40px;\">\n",
    "        <a href=\"https://discord.com/channels/1345389957526716476/1350084651179442247\"\n",
    "           target=\"_blank\">\n",
    "        <img align=\"right\" src=\"./images/Discord.png\"></a></td>\n",
    "    <!-- ############################################# -->\n",
    "    <td style=\"padding:0px;width:72px;\">\n",
    "        <img align=\"right\" src=\"./images//w3.png\" height=\"40px\"></td>\n",
    "    <td style=\"padding:0px;width:40px;\">\n",
    "        <a href=\"https://code213.tech\"  target=\"_blank\">\n",
    "        <img align=\"right\" src=\"./images/www.png\"></a></td>\n",
    "</tr></table>"
   ]
  },
  {
   "cell_type": "markdown",
   "id": "20f0bcf2",
   "metadata": {},
   "source": [
    "<div style=\"text-align:left;\">\n",
    " \n",
    "  <p><em>prepared by Latreche Sara</em></p>\n",
    "</div>"
   ]
  },
  {
   "cell_type": "markdown",
   "id": "54a78e77",
   "metadata": {},
   "source": [
    "### Course Theory\n",
    "\n",
    "\n",
    "[LinearRegressionSGD](./Course/LinearRegressionSGD.pdf) &nbsp;|&nbsp;\n",
    "[Linear Classifier](./Course/Linearclassifier.pdf) &nbsp;|&nbsp;\n",
    "[Clustering](./Course/clustering.pdf) &nbsp;|&nbsp;\n",
    "[Pca](./Course/pcachapter.pdf) &nbsp;|&nbsp;\n",
    "[Logistic Regression](./Course/Logistic_regression.pdf) &nbsp;|&nbsp;\n",
    "[SVM](./Course/SVM.pdf) &nbsp;|&nbsp;\n",
    "[Ensemble Learning](./Course/Ensemblelearning.pdf) &nbsp;|&nbsp;\n",
    "### Algorithm Implementation\n",
    "\n",
    "\n",
    "[Linear Regression Intro](./algorithm_implementation/1.1.0LinearRegression.ipynb) &nbsp;|&nbsp;\n",
    "[Stochastic Gradient Descent](./algorithm_implementation/1.1.1Stochastic_Gradient_Descent.ipynb) &nbsp;|&nbsp;\n",
    "[Linear Classifier](./algorithm_implementation/2.1.0LinearClassifier.ipynb) &nbsp;|&nbsp;\n",
    "[Linear Classifier Train test](./algorithm_implementation/2.1.1Linear_Classifier_Train_Test%20_question.ipynb) &nbsp;|&nbsp;\n",
    "[Logistic Regression](./algorithm_implementation/2.1.3LogisticRegression.ipynb) &nbsp;|&nbsp;\n",
    "[Stochastic Logistic Regression](./algorithm_implementation/2.1.4Stochastic_LogisticRegression.ipynb) &nbsp;|&nbsp;\n",
    "[KMEANS](./algorithm_implementation/3.1.0K-Means-clustering.ipynb) &nbsp;|&nbsp;\n",
    "[PCA](./algorithm_implementation/3.1.1PCA.ipynb) &nbsp;|&nbsp;\n",
    "[Gaussian Mixture](./algorithm_implementation/3.1.2Gaussian_Mixture_Model_.ipynb) &nbsp;|&nbsp;\n",
    "[DesicionTree](./algorithm_implementation/4.1.1DesicionTree.ipynb) &nbsp;|&nbsp;\n",
    "[Random Forest](./algorithm_implementation/4.1.2Random-forest.ipynb) &nbsp;|&nbsp;\n",
    "[KNN](./algorithm_implementation/4.1.3K-neirest-neighbors.ipynb) &nbsp;|&nbsp;\n",
    "[SVM](./algorithm_implementation/5.1SVM-implementation.ipynb) &nbsp;|&nbsp;\n",
    "[Ensemble Learning](./algorithm_implementation/6.1.0BoostingDecisions.ipynb) &nbsp;|&nbsp;\n",
    "\n",
    "\n",
    "### Case Study\n",
    "\n",
    "[California Housing](./Code213-python-fundational_programming_for_data_science/2-Control%20Flow/Conditionalstatements.ipynb) &nbsp;|&nbsp;\n",
    "[MNist](./Case_Study/2.Classification_Case_Study.ipynb) &nbsp;|&nbsp;\n",
    "[Oleviti face](./Case_Study/3.Unsupervised_Learning_Case_Study.ipynb) &nbsp;|&nbsp;\n",
    "[Red Shift](./Case_Study/4.0Ensemble_LearningBoostingDecisions.ipynb)"
   ]
  },
  {
   "cell_type": "markdown",
   "id": "23e6737b",
   "metadata": {},
   "source": []
  }
 ],
 "metadata": {
  "language_info": {
   "name": "python"
  }
 },
 "nbformat": 4,
 "nbformat_minor": 5
}
