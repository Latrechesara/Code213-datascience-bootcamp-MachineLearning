{
  "cells": [
    {
      "cell_type": "markdown",
      "metadata": {},
      "source": [
        "<div style=\"text-align:left;\">\n",
        "  <a href=\"https://code213.tech/\" target=\"_blank\">\n",
        "    <img src=\"../images/code213.PNG\" alt=\"QWorld\">\n",
        "  </a>\n",
        "  <p><em>prepared by Latreche Sara</em></p>\n",
        "</div>"
      ]
    },
    {
      "cell_type": "code",
      "execution_count": null,
      "metadata": {
        "id": "3_UHpEivTiT0"
      },
      "outputs": [],
      "source": [
        "import numpy as np\n",
        "\n",
        "class LinearRegressionGD:\n",
        "    def __init__(self, learning_rate=1e-6, iterations=10000):\n",
        "        self.lr = learning_rate\n",
        "        self.iterations = iterations\n",
        "        self.w = 0\n",
        "        self.b = 0\n",
        "\n",
        "    def fit(self, X, y):\n",
        "        X = np.array(X, dtype=np.float64)\n",
        "        y = np.array(y, dtype=np.float64)\n",
        "        n = len(y)\n",
        "        for _ in range(self.iterations):\n",
        "            y_pred = self.w * X + self.b\n",
        "            dw = (2 / n) * np.sum(X * (y_pred - y))\n",
        "            db = (2 / n) * np.sum(y_pred - y)\n",
        "            self.w -= self.lr * dw\n",
        "            self.b -= self.lr * db\n",
        "\n",
        "    def predict(self, X):\n",
        "        return self.w * X + self.b\n",
        "\n",
        "    def score(self, X, y):\n",
        "        y_pred = self.predict(X)\n",
        "        ss_res = np.sum((y - y_pred) ** 2)\n",
        "        ss_tot = np.sum((y - np.mean(y)) ** 2)\n",
        "        return 1 - ss_res / ss_tot  # R² score\n"
      ]
    },
    {
      "cell_type": "code",
      "execution_count": null,
      "metadata": {
        "colab": {
          "base_uri": "https://localhost:8080/"
        },
        "id": "Vx-xGJnVTmDY",
        "outputId": "741afd69-dff6-430a-adb9-c4b768870f19"
      },
      "outputs": [
        {
          "name": "stdout",
          "output_type": "stream",
          "text": [
            "Predictions: [57.22593532 61.04145845 64.85698158 68.6725047  72.48802783]\n",
            "R² score: 0.7383861911824589\n",
            "Learned weight (slope): 0.38155231262825706\n",
            "Learned bias (intercept): -0.006911571380738324\n"
          ]
        }
      ],
      "source": [
        "X = np.array([150, 160, 170, 180, 190])\n",
        "y = np.array([50, 55, 65, 72, 80])\n",
        "\n",
        "model = LinearRegressionGD(learning_rate=1e-6, iterations=10000)\n",
        "model.fit(X, y)\n",
        "\n",
        "y_pred = model.predict(X)\n",
        "r2 = model.score(X, y)\n",
        "\n",
        "print(\"Predictions:\", y_pred)\n",
        "print(\"R² score:\", r2)\n",
        "print(\"Learned weight (slope):\", model.w)\n",
        "print(\"Learned bias (intercept):\", model.b)\n",
        "\n"
      ]
    }
  ],
  "metadata": {
    "colab": {
      "provenance": []
    },
    "kernelspec": {
      "display_name": "Python 3",
      "name": "python3"
    },
    "language_info": {
      "name": "python"
    }
  },
  "nbformat": 4,
  "nbformat_minor": 0
}
