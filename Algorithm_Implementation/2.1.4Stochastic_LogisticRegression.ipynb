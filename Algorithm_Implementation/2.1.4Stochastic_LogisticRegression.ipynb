{
  "cells": [
    {
      "cell_type": "markdown",
      "metadata": {},
      "source": [
        "<div style=\"text-align:left;\">\n",
        "  <a href=\"https://code213.tech/\" target=\"_blank\">\n",
        "    <img src=\"../images/code213.PNG\" alt=\"QWorld\">\n",
        "  </a>\n",
        "  <p><em>prepared by Latreche Sara</em></p>\n",
        "</div>"
      ]
    },
    {
      "cell_type": "code",
      "execution_count": null,
      "metadata": {
        "id": "qeRDJWSSSCIb"
      },
      "outputs": [],
      "source": [
        "import numpy as np\n",
        "\n",
        "class LogisticRegressionScratch:\n",
        "    def __init__(self, learning_rate=0.01, n_iter=1000):\n",
        "        self.learning_rate = learning_rate\n",
        "        self.n_iter = n_iter\n",
        "        self.theta = None\n",
        "\n",
        "    def _sigmoid(self, z):\n",
        "        return 1 / (1 + np.exp(-z))\n",
        "\n",
        "    def fit(self, X, y):\n",
        "        # Add intercept term\n",
        "        X = np.insert(X, 0, 1, axis=1)  # shape (m, n+1)\n",
        "        m, n = X.shape\n",
        "\n",
        "        # Initialize weights\n",
        "        self.theta = np.zeros(n)\n",
        "\n",
        "        # Gradient ascent loop\n",
        "        for _ in range(self.n_iter):\n",
        "            z = X.dot(self.theta)\n",
        "            h = self._sigmoid(z)\n",
        "            gradient = X.T.dot(y - h)  # shape (n,)\n",
        "            self.theta += self.learning_rate * gradient  # update rule\n",
        "\n",
        "    def predict_proba(self, X):\n",
        "        # Add intercept term\n",
        "        X = np.insert(X, 0, 1, axis=1)\n",
        "        return self._sigmoid(X.dot(self.theta))\n",
        "\n",
        "    def predict(self, X):\n",
        "        return (self.predict_proba(X) >= 0.5).astype(int)\n"
      ]
    },
    {
      "cell_type": "code",
      "execution_count": null,
      "metadata": {
        "colab": {
          "base_uri": "https://localhost:8080/"
        },
        "id": "h2lVPiD8SJ8R",
        "outputId": "85615749-4fb1-4fa5-e2c8-21733df53e10"
      },
      "outputs": [
        {
          "name": "stdout",
          "output_type": "stream",
          "text": [
            "Probabilities: [0.99953354 0.01145144]\n",
            "Predictions: [1 0]\n"
          ]
        }
      ],
      "source": [
        "# Example: Email spam detection\n",
        "X = np.array([[50], [2]])      # Feature: number of spam keywords\n",
        "y = np.array([1, 0])           # Labels: spam (1), not spam (0)\n",
        "\n",
        "model = LogisticRegressionScratch(learning_rate=0.1, n_iter=1000)\n",
        "model.fit(X, y)\n",
        "\n",
        "# Predict on new data\n",
        "probs = model.predict_proba(X)\n",
        "preds = model.predict(X)\n",
        "\n",
        "print(\"Probabilities:\", probs)\n",
        "print(\"Predictions:\", preds)\n"
      ]
    }
  ],
  "metadata": {
    "colab": {
      "provenance": []
    },
    "kernelspec": {
      "display_name": "Python 3",
      "name": "python3"
    },
    "language_info": {
      "name": "python"
    }
  },
  "nbformat": 4,
  "nbformat_minor": 0
}
