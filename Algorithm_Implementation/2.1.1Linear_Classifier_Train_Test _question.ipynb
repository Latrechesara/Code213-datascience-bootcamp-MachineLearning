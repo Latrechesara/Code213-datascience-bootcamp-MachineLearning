{
 "cells": [
  {
   "cell_type": "markdown",
   "metadata": {},
   "source": [
    "<div style=\"text-align:left;\">\n",
    "  <a href=\"https://code213.tech/\" target=\"_blank\">\n",
    "    <img src=\"../images/code213.PNG\" alt=\"QWorld\">\n",
    "  </a>\n",
    "  <p><em>prepared by Latreche Sara</em></p>\n",
    "</div>"
   ]
  },
  {
   "cell_type": "code",
   "execution_count": 7,
   "metadata": {
    "id": "i-n6ZMl_SiYY"
   },
   "outputs": [],
   "source": [
    "import numpy as np\n",
    "import matplotlib.pyplot as plt\n",
    "from sklearn.model_selection import train_test_split"
   ]
  },
  {
   "cell_type": "code",
   "execution_count": 8,
   "metadata": {
    "id": "73k00BWlSvAY"
   },
   "outputs": [],
   "source": [
    "# set random see insure reproductibility\n",
    "np.random.seed(0)"
   ]
  },
  {
   "cell_type": "code",
   "execution_count": null,
   "metadata": {
    "id": "9cLjEg3aODRj"
   },
   "outputs": [],
   "source": [
    "# 🐶 Step 1: Generate dog whisker length data\n",
    "# Use a normal distribution with:\n",
    "# Mean = 5, Standard Deviation = 1, Size = 10\n",
    "dogs_whisker_length = np.random.normal(loc=___, scale=___, size=___)\n",
    "\n",
    "# 🐶 Step 2: Generate dog ear flappiness index\n",
    "# Use a normal distribution with:\n",
    "# Mean = 8, Standard Deviation = 1, Size = 10\n",
    "dogs_ear_flappiness_index = np.random.normal(loc=___, scale=___, size=___)\n"
   ]
  },
  {
   "cell_type": "code",
   "execution_count": 9,
   "metadata": {
    "id": "YKE48nK5Sz5O"
   },
   "outputs": [],
   "source": [
    "# dogs: higher ear flappiness index, lower whisker length\n",
    "dogs_whisker_length= np.random.normal(loc=5, scale=1,size=10)\n",
    "dogs_ear_flappiness_index= np.random.normal(loc=8, scale=1,size=10)"
   ]
  },
  {
   "cell_type": "code",
   "execution_count": null,
   "metadata": {
    "id": "Uh3XkDyLOKuu"
   },
   "outputs": [],
   "source": [
    "# 🐱 Step 1: Generate cat whisker length data\n",
    "# Cats have longer whiskers. Use a normal distribution with:\n",
    "# Mean = 8, Standard Deviation = 1, Size = 10\n",
    "cats_whisker_length = np.random.normal(loc=___, scale=___, size=___)\n",
    "\n",
    "# 🐱 Step 2: Generate cat ear flappiness index\n",
    "# Cats have lower ear flappiness. Use a normal distribution with:\n",
    "# Mean = 5, Standard Deviation = 1, Size = 10\n",
    "cats_ear_flappiness_index = np.random.normal(loc=___, scale=___, size=___)\n",
    "\n"
   ]
  },
  {
   "cell_type": "code",
   "execution_count": 10,
   "metadata": {
    "id": "d0KF86ssS02o"
   },
   "outputs": [],
   "source": [
    "# cats: lower ear flappiness index, higher whisker length\n",
    "cats_whisker_length= np.random.normal(loc=8, scale=1,size=10)\n",
    "cats_ear_flappiness_index= np.random.normal(loc=5, scale=1,size=10)"
   ]
  },
  {
   "cell_type": "code",
   "execution_count": null,
   "metadata": {
    "id": "IOz3A0pCOWd_"
   },
   "outputs": [],
   "source": [
    "# 🐾 Step 1: Combine dog features into one array\n",
    "# Stack whisker length and ear flappiness side by side\n",
    "dogs_data = np.vstack((___, ___)).T\n",
    "\n",
    "# 🐾 Step 2: Do the same for cat features\n",
    "cats_data = np.vstack((___, ___)).T\n",
    "\n",
    "# 🐾 Step 3: Combine both species into a single dataset\n",
    "data = np.vstack((___, ___))\n",
    "\n",
    "# 🐾 Step 4: Create labels (0 for dogs, 1 for cats)\n",
    "# Use np.zeros for dogs and np.ones for cats\n",
    "labels = np.hstack((np.zeros(len(___)), np.ones(len(___))))\n"
   ]
  },
  {
   "cell_type": "code",
   "execution_count": 11,
   "metadata": {
    "id": "OgjO-R7qS9R7"
   },
   "outputs": [],
   "source": [
    "# prepare data for algorithm\n",
    "dogs_data=np.vstack((dogs_whisker_length,dogs_ear_flappiness_index)).T\n",
    "cats_data=np.vstack((cats_whisker_length,cats_ear_flappiness_index)).T\n",
    "data=np.vstack((dogs_data,cats_data))\n",
    "labels=np.hstack((np.zeros(len(dogs_data)),np.ones(len(cats_data))))"
   ]
  },
  {
   "cell_type": "code",
   "execution_count": null,
   "metadata": {
    "id": "TlLNCREhOqn5"
   },
   "outputs": [],
   "source": [
    "# Instructions:\n",
    "# Split the dataset into training and testing sets using scikit-learn's train_test_split.\n",
    "# This will help us train a model on one part of the data and test how well it performs on unseen data.\n",
    "\n",
    "# Step 1: Import the train_test_split function\n",
    "from sklearn.model_selection import ______________________\n",
    "\n",
    "# Step 2: Use train_test_split to split the data and labels\n",
    "X_train, X_test, y_train, y_test = train_test_split(_________, _________,\n",
    "                                                    test_size=____,\n",
    "                                                    random_state=____)\n",
    "\n",
    "# Step 3: Now X_train and y_train can be used to train your model,\n",
    "# and X_test and y_test to evaluate its performance.\n"
   ]
  },
  {
   "cell_type": "code",
   "execution_count": 12,
   "metadata": {
    "id": "r0ZO0iumS-0v"
   },
   "outputs": [],
   "source": [
    "X_train,X_test,y_train,y_test=train_test_split(data,labels,test_size=0.2,random_state=42)"
   ]
  },
  {
   "cell_type": "code",
   "execution_count": null,
   "metadata": {
    "id": "HORJfeAOPPqv"
   },
   "outputs": [],
   "source": [
    "# Instructions:\n",
    "# Create a scatter plot of training and testing data points to visualize the differences between cats and dogs.\n",
    "\n",
    "# Step 1: Plot the training data for dogs\n",
    "# Hint: Use the label '0' to identify dogs and set the marker for them\n",
    "plt.________(X_train[__________ == 0][:, 0], X_train[__________ == 0][:, 1], label='Training Dogs')\n",
    "\n",
    "# Step 2: Plot the training data for cats\n",
    "# Hint: Use the label '1' to identify cats and set a different marker\n",
    "plt.________(X_train[__________ == 1][:, 0], X_train[__________ == 1][:, 1], label='Training Cats')\n",
    "\n",
    "# Step 3: Plot the testing data points and color them based on their labels\n",
    "# Hint: Use a color map (e.g., 'bwr') to differentiate the labels for testing data\n",
    "plt.________(X_test[:, 0], X_test[:, 1], c=y_test, cmap='bwr', label='Testing Data')\n",
    "\n",
    "# Step 4: Label the axes\n",
    "# Hint: Set the x-axis as \"Whisker Length\" and y-axis as \"Ear Flappiness Index\"\n",
    "plt.xlabel('whisker length')\n",
    "plt.ylabel('Ear flappiness index')\n",
    "\n",
    "# Step 5: Set the plot title\n",
    "# Hint: Title it as \"Dogs vs Cats – Training and Testing Data\"\n",
    "plt.title('Dogs vs Cats – Training and Testing Data')\n",
    "\n",
    "# Step 6: Add a legend to the plot\n",
    "plt.legend()\n",
    "\n",
    "# Step 7: Display the plot\n",
    "plt.show()\n"
   ]
  },
  {
   "cell_type": "code",
   "execution_count": 13,
   "metadata": {
    "colab": {
     "base_uri": "https://localhost:8080/",
     "height": 472
    },
    "id": "MjDdYjv_gjlw",
    "outputId": "1be3419e-45ed-41ce-d3bf-1cda1fe01d88"
   },
   "outputs": [
    {
     "data": {
      "image/png": "[encoded data removed]",
      "text/plain": [
       "<Figure size 640x480 with 1 Axes>"
      ]
     },
     "metadata": {},
     "output_type": "display_data"
    }
   ],
   "source": [
    "# plot the training and testing data points\n",
    "\n",
    "plt.scatter(X_train[y_train == 0][:,0],X_train[y_train == 0][:,1],label='Training Dogs')\n",
    "plt.scatter(X_train[y_train == 1][:,0],X_train[y_train == 1][:,1],label='Training Dogs')\n",
    "plt.scatter(X_test[:,0],X_test[:,1],c=y_test,cmap='bwr',label='Testing Data')\n",
    "plt.xlabel('whisker length')\n",
    "plt.ylabel('Ear flappiness index')\n",
    "plt.title('Dogs vs Cats =training and testing Data')\n",
    "plt.legend()\n",
    "plt.show()"
   ]
  },
  {
   "cell_type": "code",
   "execution_count": null,
   "metadata": {
    "id": "u_vjjiTkRDAg"
   },
   "outputs": [],
   "source": [
    "# Instructions:\n",
    "# In this task, we are going to implement a random linear classifier algorithm.\n",
    "# The function will take input data for dogs and cats, and iteratively test k random weight and bias initializations.\n",
    "# The objective is to select the model with the lowest error.\n",
    "\n",
    "# Step 1: Define the function `random_linear_classifier` that takes the following parameters:\n",
    "# - `data_dogs`: the feature data for dogs\n",
    "# - `data_cats`: the feature data for cats\n",
    "# - `k`: the number of iterations to try different initializations\n",
    "# - `d`: the number of features in each data point (dimensionality of the data)\n",
    "\n",
    "def random_linear_classifier(data_dogs, data_cats, k, d):\n",
    "\n",
    "    # Step 2: Initialize `best_error`, `best_theta`, and `best_theta0`\n",
    "    # - `best_error` should initially be set to a very high value (e.g., infinity).\n",
    "    # - `best_theta` will store the best weights (theta) after iterations.\n",
    "    # - `best_theta0` will store the best bias (theta0) after iterations.\n",
    "\n",
    "    best_error = __________  # Initialize the best error to infinity\n",
    "    best_theta = __________  # Initialize the best weights (theta) as None\n",
    "    best_theta0 = __________  # Initialize the best bias (theta0) as None\n",
    "\n",
    "    # Step 3: Start a loop for `k` iterations\n",
    "    # In each iteration:\n",
    "    # - Randomly initialize `theta` (weights) using a normal distribution of size `d`.\n",
    "    # - Randomly initialize `theta0` (bias) using a normal distribution.\n",
    "    # - Compute the error of the current model using `compute_error`.\n",
    "\n",
    "    for _ in range(k):\n",
    "        theta = __________  # Randomly initialize weights with `np.random.normal(size=d)`\n",
    "        theta0 = __________  # Randomly initialize bias with `np.random.normal()`\n",
    "\n",
    "        # Step 4: Compute the error using the helper function `compute_error`\n",
    "        # Pass in `data_dogs`, `data_cats`, `theta`, and `theta0` to calculate the error.\n",
    "        error = __________  # Call `compute_error(data_dogs, data_cats, theta, theta0)`\n",
    "\n",
    "        # Step 5: If the current error is smaller than `best_error`, update `best_error`,\n",
    "        # `best_theta`, and `best_theta0` with the new values.\n",
    "\n",
    "        if error < best_error:\n",
    "            best_error = __________  # Update `best_error` with the current error\n",
    "            best_theta = __________  # Update `best_theta` with the current `theta`\n",
    "            best_theta0 = __________  # Update `best_theta0` with the current `theta0`\n",
    "\n",
    "    # Step 6: Return the best weights (best_theta), best bias (best_theta0), and the best error\n",
    "    return best_theta, best_theta0, best_error  # Return the best parameters found\n",
    "\n",
    "\n"
   ]
  },
  {
   "cell_type": "code",
   "execution_count": 14,
   "metadata": {
    "id": "Iru69EJSh1vw"
   },
   "outputs": [],
   "source": [
    "# implementing a random linear classifier algorithm\n",
    "def random_linear_classifier(data_dogs,data_cats,k,d):\n",
    "  # d is the number of features\n",
    "  best_error = float('inf')\n",
    "  best_theta = None\n",
    "  best_theta0 = None\n",
    "\n",
    "  for _ in range(k):\n",
    "    theta = np.random.normal(size=d)\n",
    "    theta0 = np.random.normal()\n",
    "\n",
    "    error = compute_error(data_dogs,data_cats,theta,theta0) # Fixed: Removed extra indentation\n",
    "\n",
    "    if error < best_error:\n",
    "      best_error = error\n",
    "      best_theta = theta\n",
    "      best_theta0 = theta0\n",
    "  return best_theta,best_theta0,best_error"
   ]
  },
  {
   "cell_type": "code",
   "execution_count": 15,
   "metadata": {
    "id": "D5wznjRCijuF"
   },
   "outputs": [],
   "source": [
    "def compute_error(data_dogs,data_cats,theta,theta0):\n",
    "  error=0\n",
    "  for x_dog in data_dogs:\n",
    "    if np.dot(theta,x_dog)+theta0<=0:\n",
    "      error +=1\n",
    "  for x_cat in data_cats:\n",
    "    if np.dot(theta,x_cat)+theta0>0:\n",
    "      error +=1\n",
    "  return error"
   ]
  },
  {
   "cell_type": "code",
   "execution_count": null,
   "metadata": {
    "id": "KeqNI79ARQx1"
   },
   "outputs": [],
   "source": [
    "# Instructions:\n",
    "# In this task, we will run the random linear classifier algorithm on the training data.\n",
    "# You will use the classifier function from the previous step to train the model and evaluate its error.\n",
    "\n",
    "# Step 1: Set the number of iterations (`k`) for the algorithm. This defines how many times the algorithm\n",
    "# will randomly initialize the weights and bias and test them.\n",
    "k = __________  # Set `k` to 100 (or another value you prefer for the number of iterations)\n",
    "\n",
    "# Step 2: Set the number of features (`d`) in your data. The data has 2 features in this case.\n",
    "d = __________  # Set `d` to 2 (for 2 features: whisker length and ear flappiness index)\n",
    "\n",
    "# Step 3: Call the `random_linear_classifier` function on your training data\n",
    "# - Use `X_train[y_train == 0]` as the dog data\n",
    "# - Use `X_train[y_train == 1]` as the cat data\n",
    "# - Pass in `k` (number of iterations) and `d` (number of features)\n",
    "# The function should return the best weights (`best_theta_train`), best bias (`best_theta0_train`),\n",
    "# and the best error (`train_error`).\n",
    "\n",
    "best_theta_train, best_theta0_train, train_error = __________  # Call the classifier function with the appropriate data\n",
    "\n",
    "# Step 4: Now you can print the results, like the best weights, bias, and error for the training data\n",
    "print(\"Best theta (weights) for training data:\", best_theta_train)\n",
    "print(\"Best theta0 (bias) for training data:\", best_theta0_train)\n",
    "print(\"Best error for training data:\", train_error)\n"
   ]
  },
  {
   "cell_type": "code",
   "execution_count": 16,
   "metadata": {
    "id": "e_bFWBLLinEj"
   },
   "outputs": [],
   "source": [
    "# run random linear classifier algorithms\n",
    "k=100\n",
    "d=2\n",
    "best_theta_train,best_theta0_train,train_error=random_linear_classifier(X_train[y_train == 0],X_train[y_train == 1],k,d)"
   ]
  },
  {
   "cell_type": "code",
   "execution_count": null,
   "metadata": {
    "id": "Bo_3dR4DRn1f"
   },
   "outputs": [],
   "source": [
    "# Instructions:\n",
    "# Now, we will plot the decision boundary based on the learned parameters\n",
    "# (weights `best_theta_train` and bias `best_theta0_train`) from the random linear classifier.\n",
    "# This will help us visualize how well the classifier separates the data.\n",
    "\n",
    "# Step 1: Create an array of x-values for plotting the decision boundary.\n",
    "# Generate 100 equally spaced values between 2 and 10 to represent the whisker length range.\n",
    "x_vals_train = ________________________\n",
    "\n",
    "# Step 2: Calculate the corresponding y-values for the decision boundary using the equation:\n",
    "#    y = (-theta[0]/theta[1]) * x - (theta0/theta[1])\n",
    "# This equation is derived from the linear classifier equation (theta[0]*x + theta[1]*y + theta0 = 0).\n",
    "y_vals_train = ________________________\n",
    "\n",
    "# Step 3: Plot the training data points (dogs and cats)\n",
    "# Plot the training dogs data (label = 0)\n",
    "# Plot the training cats data (label = 1)\n",
    "# Make sure to label them appropriately.\n",
    "\n",
    "# Step 4: Plot the decision boundary\n",
    "# Use `plt.plot()` to plot the decision boundary.\n",
    "\n",
    "# Step 5: Customize the plot with labels, title, and legend\n",
    "# Label the x-axis as \"Whisker Length\"\n",
    "# Label the y-axis as \"Ear Flappiness Index\"\n",
    "# Set a title like \"Decision Boundary of Random Linear Classifier (Training Data)\"\n",
    "# Show the legend for the categories\n",
    "\n",
    "# Step 6: Display the plot\n",
    "plt.show()\n"
   ]
  },
  {
   "cell_type": "code",
   "execution_count": 17,
   "metadata": {
    "id": "r4QgydimiySb"
   },
   "outputs": [],
   "source": [
    "# plot the decision bouandry\n",
    "x_vals_train=np.linspace(2,10,100)\n",
    "y_vals_train=(-best_theta_train[0]/best_theta_train[1])*x_vals_train-(best_theta0_train/best_theta_train[1])"
   ]
  },
  {
   "cell_type": "code",
   "execution_count": null,
   "metadata": {
    "id": "64DVSAbgSlVC"
   },
   "outputs": [],
   "source": [
    "# Step 1: Plot the data points for Dogs\n",
    "# Use `plt.scatter` to plot the Dogs data points.\n",
    "# You'll need to filter the data where the label is 0 (for Dogs) from the training set.\n",
    "\n",
    "# Step 2: Plot the data points for Cats\n",
    "# Similarly, use `plt.scatter` to plot the Cats data points.\n",
    "# Filter the data where the label is 1 (for Cats) from the training set.\n",
    "\n",
    "# Step 3: Plot the decision boundary\n",
    "# Create an array of x-values using `np.linspace`.\n",
    "# Then calculate the corresponding y-values for the decision boundary.\n",
    "# Use `plt.plot` to plot the decision boundary line with the calculated x and y values.\n",
    "\n",
    "# Step 4: Add labels for the axes and legend\n",
    "# Use `plt.xlabel` and `plt.ylabel` to label the x-axis and y-axis.\n",
    "# Add a legend using `plt.legend` to describe the categories in the plot.\n",
    "\n",
    "# Step 5: Display the plot\n",
    "# Use `plt.show()` to display the plot with all the elements added.\n"
   ]
  },
  {
   "cell_type": "code",
   "execution_count": 18,
   "metadata": {
    "colab": {
     "base_uri": "https://localhost:8080/",
     "height": 619
    },
    "id": "i2SHs1xPkxrK",
    "outputId": "b2a94671-fe73-4c80-d9e1-460640af2371"
   },
   "outputs": [
    {
     "data": {
      "text/html": [
       "<div style=\"max-width:800px; border: 1px solid var(--colab-border-color);\"><style>\n",
       "      pre.function-repr-contents {\n",
       "        overflow-x: auto;\n",
       "        padding: 8px 12px;\n",
       "        max-height: 500px;\n",
       "      }\n",
       "\n",
       "      pre.function-repr-contents.function-repr-contents-collapsed {\n",
       "        cursor: pointer;\n",
       "        max-height: 100px;\n",
       "      }\n",
       "    </style>\n",
       "    <pre style=\"white-space: initial; background:\n",
       "         var(--colab-secondary-surface-color); padding: 8px 12px;\n",
       "         border-bottom: 1px solid var(--colab-border-color);\"><b>matplotlib.pyplot.show</b><br/>def show(*args, **kwargs) -&gt; None</pre><pre class=\"function-repr-contents function-repr-contents-collapsed\" style=\"\"><a class=\"filepath\" style=\"display:none\" href=\"#\">/usr/local/lib/python3.11/dist-packages/matplotlib/pyplot.py</a>Display all open figures.\n",
       "\n",
       "Parameters\n",
       "----------\n",
       "block : bool, optional\n",
       "    Whether to wait for all figures to be closed before returning.\n",
       "\n",
       "    If `True` block and run the GUI main loop until all figure windows\n",
       "    are closed.\n",
       "\n",
       "    If `False` ensure that all figure windows are displayed and return\n",
       "    immediately.  In this case, you are responsible for ensuring\n",
       "    that the event loop is running to have responsive figures.\n",
       "\n",
       "    Defaults to True in non-interactive mode and to False in interactive\n",
       "    mode (see `.pyplot.isinteractive`).\n",
       "\n",
       "See Also\n",
       "--------\n",
       "ion : Enable interactive mode, which shows / updates the figure after\n",
       "      every plotting command, so that calling ``show()`` is not necessary.\n",
       "ioff : Disable interactive mode.\n",
       "savefig : Save the figure to an image file instead of showing it on screen.\n",
       "\n",
       "Notes\n",
       "-----\n",
       "**Saving figures to file and showing a window at the same time**\n",
       "\n",
       "If you want an image file as well as a user interface window, use\n",
       "`.pyplot.savefig` before `.pyplot.show`. At the end of (a blocking)\n",
       "``show()`` the figure is closed and thus unregistered from pyplot. Calling\n",
       "`.pyplot.savefig` afterwards would save a new and thus empty figure. This\n",
       "limitation of command order does not apply if the show is non-blocking or\n",
       "if you keep a reference to the figure and use `.Figure.savefig`.\n",
       "\n",
       "**Auto-show in jupyter notebooks**\n",
       "\n",
       "The jupyter backends (activated via ``%matplotlib inline``,\n",
       "``%matplotlib notebook``, or ``%matplotlib widget``), call ``show()`` at\n",
       "the end of every cell by default. Thus, you usually don&#x27;t have to call it\n",
       "explicitly there.</pre>\n",
       "      <script>\n",
       "      if (google.colab.kernel.accessAllowed && google.colab.files && google.colab.files.view) {\n",
       "        for (const element of document.querySelectorAll('.filepath')) {\n",
       "          element.style.display = 'block'\n",
       "          element.onclick = (event) => {\n",
       "            event.preventDefault();\n",
       "            event.stopPropagation();\n",
       "            google.colab.files.view(element.textContent, 569);\n",
       "          };\n",
       "        }\n",
       "      }\n",
       "      for (const element of document.querySelectorAll('.function-repr-contents')) {\n",
       "        element.onclick = (event) => {\n",
       "          event.preventDefault();\n",
       "          event.stopPropagation();\n",
       "          element.classList.toggle('function-repr-contents-collapsed');\n",
       "        };\n",
       "      }\n",
       "      </script>\n",
       "      </div>"
      ],
      "text/plain": [
       "<function matplotlib.pyplot.show(close=None, block=None)>"
      ]
     },
     "execution_count": 18,
     "metadata": {},
     "output_type": "execute_result"
    },
    {
     "data": {
      "image/png": "[encoded data removed]",
      "text/plain": [
       "<Figure size 640x480 with 1 Axes>"
      ]
     },
     "metadata": {},
     "output_type": "display_data"
    }
   ],
   "source": [
    "plt.scatter(X_train[y_train == 0][:,0],X_train[y_train == 0][:,1],label='Dogs Training')\n",
    "plt.scatter(X_train[y_train == 1][:,0],X_train[y_train == 1][:,1],label='Cats Training')\n",
    "plt.plot(x_vals_train,y_vals_train,color='red',linestyle='--',label='Training Desion Boundary')\n",
    "plt.xlabel('Whisker Length')\n",
    "plt.ylabel('Ear Flappiness Index')\n",
    "\n",
    "plt.legend()\n",
    "plt.show"
   ]
  },
  {
   "cell_type": "code",
   "execution_count": 19,
   "metadata": {
    "colab": {
     "base_uri": "https://localhost:8080/"
    },
    "id": "l02lRvbxlx2o",
    "outputId": "25b71af7-fb35-430b-caf1-70a27c1985dc"
   },
   "outputs": [
    {
     "name": "stdout",
     "output_type": "stream",
     "text": [
      "Training Error:0\n"
     ]
    }
   ],
   "source": [
    "print(f'Training Error:{train_error}')"
   ]
  },
  {
   "cell_type": "code",
   "execution_count": null,
   "metadata": {
    "id": "kFHPlviXS137"
   },
   "outputs": [],
   "source": [
    "# Step 1: Compute the testing error\n",
    "# Define the variable `test_error` and use the `compute_error` function with the following arguments:\n",
    "# 1. X_test data for Dogs (y_test == 0) and Cats (y_test == 1)\n",
    "# 2. `best_theta_train` (from the training phase)\n",
    "# 3. `best_theta0_train` (from the training phase)\n",
    "\n",
    "test_error = ___________________________\n",
    "\n",
    "# Step 2: Print the testing error\n",
    "# Output the value of `test_error` using the print function.\n",
    "print(f\"Testing Error: {_________________________}\")\n"
   ]
  },
  {
   "cell_type": "code",
   "execution_count": 20,
   "metadata": {
    "colab": {
     "base_uri": "https://localhost:8080/"
    },
    "id": "bYtCGgMwl9un",
    "outputId": "bf504e8b-3fb0-44d4-8901-620ea9447bfc"
   },
   "outputs": [
    {
     "name": "stdout",
     "output_type": "stream",
     "text": [
      "Testing Error: 0\n"
     ]
    }
   ],
   "source": [
    "# compute testing error\n",
    "test_error=compute_error(X_test[y_test == 0],X_test[y_test == 1], best_theta_train,best_theta0_train)\n",
    "print(f\"Testing Error: {test_error}\")"
   ]
  },
  {
   "cell_type": "code",
   "execution_count": null,
   "metadata": {
    "id": "_hRWL4NpS_Z1"
   },
   "outputs": [],
   "source": [
    "# Step 1: Plot the actual test data for Dogs and Cats\n",
    "# Use plt.scatter to plot the actual data points for Dogs (y_test == 0) and Cats (y_test == 1).\n",
    "# Label the points appropriately as 'Actual Dogs Test' and 'Actual Cats Test'.\n",
    "\n",
    "# Step 2: Predict the test data labels using the decision boundary\n",
    "# Initialize a variable `predicted_labels` to store the predictions, initially set to zeros (for Dogs).\n",
    "# Use a for loop to go through each test point (x_test) and predict the label:\n",
    "# - If np.dot(best_theta_train, x_test) + best_theta0_train > 0, classify it as Cats (1).\n",
    "# - Otherwise, classify it as Dogs (0).\n",
    "\n",
    "# Step 3: Plot the predicted test data points\n",
    "# Use plt.scatter to plot the predicted data points for Dogs and Cats.\n",
    "# Mark the predicted points differently (e.g., 'x' marker) and label as 'Predicted Dogs Test' and 'Predicted Cats Test'.\n",
    "\n",
    "# Step 4: Plot the decision boundary\n",
    "# Use the line equation `y_vals_train` for plotting the decision boundary, which was calculated earlier.\n",
    "\n",
    "# Step 5: Add labels, legend, and display the plot\n",
    "plt.xlabel('Whisker length')\n",
    "plt.ylabel('Ear flappiness index')\n",
    "plt.legend()\n",
    "plt.show()\n"
   ]
  },
  {
   "cell_type": "code",
   "execution_count": 21,
   "metadata": {
    "colab": {
     "base_uri": "https://localhost:8080/",
     "height": 449
    },
    "id": "kvQDtg4amlud",
    "outputId": "06a181ce-8650-4032-a624-812e88b96f84"
   },
   "outputs": [
    {
     "data": {
      "image/png": "[encoded data removed]",
      "text/plain": [
       "<Figure size 640x480 with 1 Axes>"
      ]
     },
     "metadata": {},
     "output_type": "display_data"
    }
   ],
   "source": [
    "# plot the actual test data and predicted test data\n",
    "plt.scatter(X_test[y_test==0][:,0],X_test[y_test == 1][:,1], label='Actual Dogs Test')\n",
    "plt.scatter(X_test[y_test==1][:,0],X_test[y_test == 1][:,1], label='Actual Dogs Test')\n",
    "# Predict test data points usng decision bouandry\n",
    "predicted_labels = np.zeros_like(y_test)\n",
    "for i,x_test in enumerate(X_test):\n",
    "   if np.dot(best_theta_train,x_test)+ best_theta0_train > 0:\n",
    "     predicted_labels[i]=1\n",
    "# plot predicted test data points\n",
    "plt.scatter(X_test[predicted_labels == 0][:,0],X_test[predicted_labels == 0][:,1],marker='x',label='Predicted Dogs Test')\n",
    "plt.scatter(X_test[predicted_labels ==1][:,0],X_test[predicted_labels ==1][:,1],marker='x',label='Predicted Cats Test')\n",
    "# plot decision bouandry\n",
    "plt.plot(x_vals_train,y_vals_train,color='red',linestyle='--',label='Decision Boundary')\n",
    "plt.xlabel('Whisker length')\n",
    "plt.ylabel('Earth flappiness index')\n",
    "plt.legend()\n",
    "plt.show()\n"
   ]
  },
  {
   "cell_type": "code",
   "execution_count": null,
   "metadata": {
    "id": "j-eZnIQbTJRW"
   },
   "outputs": [],
   "source": [
    "# Step 1: Import necessary modules for cross-validation\n",
    "# Import KFold from sklearn.model_selection.\n",
    "\n",
    "# Step 2: Define the `cross_validation` function\n",
    "# This function takes the data for dogs and cats, a list of k values, the number of features (d),\n",
    "# and the number of splits (n_splits, default is 5).\n",
    "\n",
    "# Step 3: Inside the function, initialize the KFold cross-validation with the specified splits.\n",
    "# Loop through each value of k in `k_values` to perform cross-validation.\n",
    "\n",
    "# Step 4: For each value of k, perform the following:\n",
    "#   - Split the data into training and validation sets using KFold.\n",
    "#   - Train a random linear classifier on the training data.\n",
    "#   - Calculate the error on the validation set and append it to `errors`.\n",
    "\n",
    "# Step 5: Calculate the average error for each k value by taking the mean of errors from all folds.\n",
    "\n",
    "# Step 6: After finishing the loop for all k values, determine the best k by finding the minimum average error.\n",
    "\n",
    "# Step 7: Return the best k value.\n",
    "\n",
    "# Step 8: Define the list of k values to try (k_values) and call the `cross_validation` function with the appropriate data.\n",
    "# Print the best value of k.\n",
    "\n"
   ]
  },
  {
   "cell_type": "code",
   "execution_count": 23,
   "metadata": {
    "colab": {
     "base_uri": "https://localhost:8080/"
    },
    "id": "aV9PNI7c-NH7",
    "outputId": "ffe546c5-56b5-4f1b-aaee-bbfb444fc4de"
   },
   "outputs": [
    {
     "name": "stdout",
     "output_type": "stream",
     "text": [
      "Best value of k: 200\n"
     ]
    }
   ],
   "source": [
    "import numpy as np\n",
    "from sklearn.model_selection import KFold\n",
    "\n",
    "# ... (your other functions: random_linear_classifier, compute_error) ...\n",
    "\n",
    "def cross_validation(data_dogs, data_cats, k_values, d, n_splits=5):\n",
    "    kf = KFold(n_splits=n_splits, shuffle=True, random_state=42)\n",
    "    avg_errors = []\n",
    "\n",
    "    for k in k_values:\n",
    "        errors = []\n",
    "\n",
    "        for train_index, val_index in kf.split(data_dogs):\n",
    "            X_train_fold = np.vstack((data_dogs[train_index], data_cats[train_index]))\n",
    "            y_train_fold = np.hstack((np.zeros(len(train_index)), np.ones(len(train_index))))\n",
    "            X_val_fold = np.vstack((data_dogs[val_index], data_cats[val_index]))\n",
    "            y_val_fold = np.hstack((np.zeros(len(val_index)), np.ones(len(val_index))))\n",
    "\n",
    "            best_theta, best_theta0, best_error = random_linear_classifier(X_train_fold[y_train_fold == 0],\n",
    "                                                                           X_train_fold[y_train_fold == 1],\n",
    "                                                                           k, d)\n",
    "            errors.append(compute_error(X_val_fold[y_val_fold == 0], X_val_fold[y_val_fold == 1],\n",
    "                                        best_theta, best_theta0))\n",
    "\n",
    "        avg_errors.append(np.mean(errors))\n",
    "\n",
    "    best_k = k_values[np.argmin(avg_errors)]\n",
    "    return best_k\n",
    "\n",
    "# define k values to try\n",
    "k_values = [1, 10, 50, 100, 200]\n",
    "\n",
    "# Assuming 'dogs_data' and 'cats_data' are defined earlier in your code\n",
    "best_k = cross_validation(dogs_data, cats_data, k_values, d=2)\n",
    "print(f'Best value of k: {best_k}')"
   ]
  }
 ],
 "metadata": {
  "colab": {
   "provenance": []
  },
  "kernelspec": {
   "display_name": "Python 3 (ipykernel)",
   "language": "python",
   "name": "python3"
  },
  "language_info": {
   "codemirror_mode": {
    "name": "ipython",
    "version": 3
   },
   "file_extension": ".py",
   "mimetype": "text/x-python",
   "name": "python",
   "nbconvert_exporter": "python",
   "pygments_lexer": "ipython3",
   "version": "3.12.11"
  }
 },
 "nbformat": 4,
 "nbformat_minor": 4
}
