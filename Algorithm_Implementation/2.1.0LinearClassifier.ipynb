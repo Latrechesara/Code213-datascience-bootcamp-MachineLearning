{
 "cells": [
  {
   "cell_type": "markdown",
   "metadata": {},
   "source": [
    "<div style=\"text-align:left;\">\n",
    "  <a href=\"https://code213.tech/\" target=\"_blank\">\n",
    "    <img src=\"../images/code213.PNG\" alt=\"QWorld\">\n",
    "  </a>\n",
    "  <p><em>prepared by Latreche Sara</em></p>\n",
    "</div>"
   ]
  },
  {
   "cell_type": "code",
   "execution_count": 1,
   "metadata": {
    "id": "HoYp-ztc7HBu"
   },
   "outputs": [],
   "source": [
    "import numpy as np\n",
    "import matplotlib.pyplot as plt\n",
    "from sklearn.model_selection import train_test_split\n"
   ]
  },
  {
   "cell_type": "code",
   "execution_count": 2,
   "metadata": {
    "id": "OZmj5gVi7NgM"
   },
   "outputs": [],
   "source": [
    "# set random see insure reproductibility\n",
    "np.random.seed(0)"
   ]
  },
  {
   "cell_type": "code",
   "execution_count": 3,
   "metadata": {
    "id": "67twm51l7Xau"
   },
   "outputs": [],
   "source": [
    "# dogs: higher ear flappiness index, lower whisker length\n",
    "dogs_whisker_length= np.random.normal(loc=5, scale=1,size=10)\n",
    "dogs_ear_flappiness_index= np.random.normal(loc=8, scale=1,size=10)"
   ]
  },
  {
   "cell_type": "code",
   "execution_count": 4,
   "metadata": {
    "id": "2-OKNaPv8L6n"
   },
   "outputs": [],
   "source": [
    "# cats: lower ear flappiness index, higher whisker length\n",
    "cats_whisker_length= np.random.normal(loc=8, scale=1,size=10)\n",
    "cats_ear_flappiness_index= np.random.normal(loc=5, scale=1,size=10)"
   ]
  },
  {
   "cell_type": "code",
   "execution_count": 5,
   "metadata": {
    "colab": {
     "base_uri": "https://localhost:8080/",
     "height": 472
    },
    "id": "RVPtSo-E9y_b",
    "outputId": "5c2d06ca-7b85-47ee-d402-5931536ccb72"
   },
   "outputs": [
    {
     "data": {
      "image/png": "[encoded data removed]",
      "text/plain": [
       "<Figure size 640x480 with 1 Axes>"
      ]
     },
     "metadata": {},
     "output_type": "display_data"
    }
   ],
   "source": [
    "# plot the data points\n",
    "plt.scatter(dogs_whisker_length,dogs_ear_flappiness_index,label='Dogs')\n",
    "plt.scatter(cats_whisker_length,cats_ear_flappiness_index,label='Cats')\n",
    "plt.xlabel('Whisker Length')\n",
    "plt.ylabel('Ear Flappiness Index')\n",
    "plt.title('Dogs vs Cats Classification')\n",
    "plt.legend()\n",
    "plt.show()"
   ]
  },
  {
   "cell_type": "code",
   "execution_count": 49,
   "metadata": {
    "id": "pi9_DiIcQ-Ag"
   },
   "outputs": [],
   "source": [
    "# implementing a random linear classifier algorithm\n",
    "def random_linear_classifier(data_dogs,data_cats,k,d):\n",
    "  # d is the number of features\n",
    "  best_error = float('inf')\n",
    "  best_theta = None\n",
    "  best_theta0 = None\n",
    "\n",
    "  for _ in range(k):\n",
    "    theta = np.random.normal(size=d)\n",
    "    theta0 = np.random.normal()\n",
    "\n",
    "    error = compute_error(data_dogs,data_cats,theta,theta0) # Fixed: Removed extra indentation\n",
    "\n",
    "    if error < best_error:\n",
    "      best_error = error\n",
    "      best_theta = theta\n",
    "      best_theta0 = theta0\n",
    "  return best_theta,best_theta0"
   ]
  },
  {
   "cell_type": "code",
   "execution_count": 50,
   "metadata": {
    "id": "vf6YBvdFHOU7"
   },
   "outputs": [],
   "source": [
    "def compute_error(data_dogs,data_cats,theta,theta0):\n",
    "  error=0\n",
    "  for x_dog in data_dogs:\n",
    "    if np.dot(theta,x_dog)+theta0<=0:\n",
    "      error +=1\n",
    "  for x_cat in data_cats:\n",
    "    if np.dot(theta,x_cat)+theta0>0:\n",
    "      error +=1\n",
    "  return error"
   ]
  },
  {
   "cell_type": "code",
   "execution_count": 51,
   "metadata": {
    "id": "d-KwPRgXIAHT"
   },
   "outputs": [],
   "source": [
    "# prepare data for algorithm\n",
    "dogs_data=np.vstack((dogs_whisker_length,dogs_ear_flappiness_index)).T\n",
    "cats_data=np.vstack((cats_whisker_length,cats_ear_flappiness_index)).T"
   ]
  },
  {
   "cell_type": "code",
   "execution_count": 44,
   "metadata": {
    "colab": {
     "base_uri": "https://localhost:8080/"
    },
    "id": "siaGQiBAIhOU",
    "outputId": "2e9c01b5-73f7-42a9-f6b9-6adde0c7a86b"
   },
   "outputs": [
    {
     "data": {
      "text/plain": [
       "array([[2.44701018, 8.15494743],\n",
       "       [5.6536186 , 8.37816252],\n",
       "       [5.8644362 , 7.11221425],\n",
       "       [4.25783498, 6.01920353],\n",
       "       [7.26975462, 7.65208785],\n",
       "       [3.54563433, 8.15634897],\n",
       "       [5.04575852, 9.23029068],\n",
       "       [4.81281615, 9.20237985],\n",
       "       [6.53277921, 7.61267318],\n",
       "       [6.46935877, 7.69769725]])"
      ]
     },
     "execution_count": 44,
     "metadata": {},
     "output_type": "execute_result"
    }
   ],
   "source": [
    "dogs_data"
   ]
  },
  {
   "cell_type": "code",
   "execution_count": 25,
   "metadata": {
    "colab": {
     "base_uri": "https://localhost:8080/"
    },
    "id": "fEORNr27IioQ",
    "outputId": "45d80a6e-69ae-40c5-c4dd-b8ff0a923f82"
   },
   "outputs": [
    {
     "data": {
      "text/plain": [
       "array([[6.95144703, 4.10453344],\n",
       "       [6.57998206, 5.3869025 ],\n",
       "       [6.29372981, 4.48919486],\n",
       "       [9.9507754 , 3.81936782],\n",
       "       [7.49034782, 4.97181777],\n",
       "       [7.5619257 , 5.42833187],\n",
       "       [6.74720464, 5.06651722],\n",
       "       [8.77749036, 5.3024719 ],\n",
       "       [6.38610215, 4.36567791],\n",
       "       [7.78725972, 4.63725883]])"
      ]
     },
     "execution_count": 25,
     "metadata": {},
     "output_type": "execute_result"
    }
   ],
   "source": [
    "cats_data"
   ]
  },
  {
   "cell_type": "code",
   "execution_count": 52,
   "metadata": {
    "id": "0HDyXeFcIl2y"
   },
   "outputs": [],
   "source": [
    "# run random linear classifier algorithms\n",
    "k=100\n",
    "d=2\n",
    "best_theta,best_theta0=random_linear_classifier(dogs_data,cats_data,k,d)"
   ]
  },
  {
   "cell_type": "code",
   "execution_count": 53,
   "metadata": {
    "id": "-Fd_g9_PI_HS"
   },
   "outputs": [],
   "source": [
    "# plot the decision bouandry\n",
    "x_vals=np.linspace(2,10,100)\n",
    "y_vals=(-best_theta[0]/best_theta[1])*x_vals-(best_theta0/best_theta[1])"
   ]
  },
  {
   "cell_type": "code",
   "execution_count": 36,
   "metadata": {
    "colab": {
     "base_uri": "https://localhost:8080/"
    },
    "id": "Gfquy2GyLIcN",
    "outputId": "3a864f4a-e012-4139-ed65-adadd1f29a17"
   },
   "outputs": [
    {
     "data": {
      "text/plain": [
       "-0.9072983643832422"
      ]
     },
     "execution_count": 36,
     "metadata": {},
     "output_type": "execute_result"
    }
   ],
   "source": [
    "best_theta0"
   ]
  },
  {
   "cell_type": "code",
   "execution_count": 37,
   "metadata": {
    "colab": {
     "base_uri": "https://localhost:8080/"
    },
    "id": "XTCqvdc7LGYJ",
    "outputId": "be5846ea-e57d-4c03-9ab5-d7c73e06e91f"
   },
   "outputs": [
    {
     "data": {
      "text/plain": [
       "array([-1.63019835,  0.46278226])"
      ]
     },
     "execution_count": 37,
     "metadata": {},
     "output_type": "execute_result"
    }
   ],
   "source": [
    "# print best theta theta1 and theta 2\n",
    "best_theta"
   ]
  },
  {
   "cell_type": "code",
   "execution_count": 54,
   "metadata": {
    "colab": {
     "base_uri": "https://localhost:8080/",
     "height": 619
    },
    "id": "HXTE4MdAKN_8",
    "outputId": "d8e4bb87-0db9-4bc1-d65a-3a858de66a2f"
   },
   "outputs": [
    {
     "data": {
      "text/html": [
       "<div style=\"max-width:800px; border: 1px solid var(--colab-border-color);\"><style>\n",
       "      pre.function-repr-contents {\n",
       "        overflow-x: auto;\n",
       "        padding: 8px 12px;\n",
       "        max-height: 500px;\n",
       "      }\n",
       "\n",
       "      pre.function-repr-contents.function-repr-contents-collapsed {\n",
       "        cursor: pointer;\n",
       "        max-height: 100px;\n",
       "      }\n",
       "    </style>\n",
       "    <pre style=\"white-space: initial; background:\n",
       "         var(--colab-secondary-surface-color); padding: 8px 12px;\n",
       "         border-bottom: 1px solid var(--colab-border-color);\"><b>matplotlib.pyplot.show</b><br/>def show(*args, **kwargs) -&gt; None</pre><pre class=\"function-repr-contents function-repr-contents-collapsed\" style=\"\"><a class=\"filepath\" style=\"display:none\" href=\"#\">/usr/local/lib/python3.11/dist-packages/matplotlib/pyplot.py</a>Display all open figures.\n",
       "\n",
       "Parameters\n",
       "----------\n",
       "block : bool, optional\n",
       "    Whether to wait for all figures to be closed before returning.\n",
       "\n",
       "    If `True` block and run the GUI main loop until all figure windows\n",
       "    are closed.\n",
       "\n",
       "    If `False` ensure that all figure windows are displayed and return\n",
       "    immediately.  In this case, you are responsible for ensuring\n",
       "    that the event loop is running to have responsive figures.\n",
       "\n",
       "    Defaults to True in non-interactive mode and to False in interactive\n",
       "    mode (see `.pyplot.isinteractive`).\n",
       "\n",
       "See Also\n",
       "--------\n",
       "ion : Enable interactive mode, which shows / updates the figure after\n",
       "      every plotting command, so that calling ``show()`` is not necessary.\n",
       "ioff : Disable interactive mode.\n",
       "savefig : Save the figure to an image file instead of showing it on screen.\n",
       "\n",
       "Notes\n",
       "-----\n",
       "**Saving figures to file and showing a window at the same time**\n",
       "\n",
       "If you want an image file as well as a user interface window, use\n",
       "`.pyplot.savefig` before `.pyplot.show`. At the end of (a blocking)\n",
       "``show()`` the figure is closed and thus unregistered from pyplot. Calling\n",
       "`.pyplot.savefig` afterwards would save a new and thus empty figure. This\n",
       "limitation of command order does not apply if the show is non-blocking or\n",
       "if you keep a reference to the figure and use `.Figure.savefig`.\n",
       "\n",
       "**Auto-show in jupyter notebooks**\n",
       "\n",
       "The jupyter backends (activated via ``%matplotlib inline``,\n",
       "``%matplotlib notebook``, or ``%matplotlib widget``), call ``show()`` at\n",
       "the end of every cell by default. Thus, you usually don&#x27;t have to call it\n",
       "explicitly there.</pre>\n",
       "      <script>\n",
       "      if (google.colab.kernel.accessAllowed && google.colab.files && google.colab.files.view) {\n",
       "        for (const element of document.querySelectorAll('.filepath')) {\n",
       "          element.style.display = 'block'\n",
       "          element.onclick = (event) => {\n",
       "            event.preventDefault();\n",
       "            event.stopPropagation();\n",
       "            google.colab.files.view(element.textContent, 569);\n",
       "          };\n",
       "        }\n",
       "      }\n",
       "      for (const element of document.querySelectorAll('.function-repr-contents')) {\n",
       "        element.onclick = (event) => {\n",
       "          event.preventDefault();\n",
       "          event.stopPropagation();\n",
       "          element.classList.toggle('function-repr-contents-collapsed');\n",
       "        };\n",
       "      }\n",
       "      </script>\n",
       "      </div>"
      ],
      "text/plain": [
       "<function matplotlib.pyplot.show(close=None, block=None)>"
      ]
     },
     "execution_count": 54,
     "metadata": {},
     "output_type": "execute_result"
    },
    {
     "data": {
      "image/png": "[encoded data removed]",
      "text/plain": [
       "<Figure size 640x480 with 1 Axes>"
      ]
     },
     "metadata": {},
     "output_type": "display_data"
    }
   ],
   "source": [
    "plt.scatter(dogs_whisker_length,dogs_ear_flappiness_index,label='Dogs')\n",
    "plt.scatter(cats_whisker_length,cats_ear_flappiness_index,label='Cats')\n",
    "plt.plot(x_vals,y_vals,color='red',linestyle='--',label='Desion Boundary')\n",
    "plt.xlabel('Whisker Length')\n",
    "plt.ylabel('Ear Flappiness Index')\n",
    "\n",
    "# Set the limits of the x and y axes\n",
    "#plt.xlim(0)  # Start x-axis at 0\n",
    "#plt.ylim(0)  # Start y-axis at 0\n",
    "plt.legend()\n",
    "plt.show"
   ]
  },
  {
   "cell_type": "code",
   "execution_count": null,
   "metadata": {
    "id": "42BH-DVTRk61"
   },
   "outputs": [],
   "source": []
  }
 ],
 "metadata": {
  "colab": {
   "provenance": []
  },
  "kernelspec": {
   "display_name": "Python 3 (ipykernel)",
   "language": "python",
   "name": "python3"
  },
  "language_info": {
   "codemirror_mode": {
    "name": "ipython",
    "version": 3
   },
   "file_extension": ".py",
   "mimetype": "text/x-python",
   "name": "python",
   "nbconvert_exporter": "python",
   "pygments_lexer": "ipython3",
   "version": "3.9.20"
  }
 },
 "nbformat": 4,
 "nbformat_minor": 4
}
